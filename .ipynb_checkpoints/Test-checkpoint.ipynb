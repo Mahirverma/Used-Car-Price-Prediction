{
 "cells": [
  {
   "cell_type": "code",
   "execution_count": 63,
   "id": "07a91d52",
   "metadata": {},
   "outputs": [],
   "source": [
    "#Packages for Exploratory Data Analysis(EDA)\n",
    "import numpy as np\n",
    "import pandas as pd\n",
    "import seaborn as sns\n",
    "\n",
    "\n",
    "#Data Preprocessing\n",
    "from sklearn.model_selection import train_test_split\n",
    "import category_encoders as ce\n",
    "from sklearn.metrics import mean_squared_error\n",
    "from sklearn.preprocessing import PowerTransformer\n",
    "\n",
    "#Modelling\n",
    "from sklearn.linear_model import LassoCV\n",
    "from sklearn.linear_model import RidgeCV\n",
    "from sklearn.linear_model import ElasticNetCV\n",
    "from sklearn.tree import DecisionTreeRegressor\n",
    "from sklearn.linear_model import LinearRegression\n",
    "from sklearn.ensemble import RandomForestRegressor\n",
    "np.seterr(divide='ignore', invalid='ignore', over='ignore')\n",
    "\n",
    "# Showing Plots inside notebook\n",
    "%matplotlib inline\n",
    "sns.set(rc={'figure.figsize': [7, 14]}, font_scale=1.2)\n",
    "from math import sqrt"
   ]
  },
  {
   "cell_type": "code",
   "execution_count": 2,
   "id": "e84df7a7",
   "metadata": {
    "scrolled": true
   },
   "outputs": [
    {
     "data": {
      "text/html": [
       "<div>\n",
       "<style scoped>\n",
       "    .dataframe tbody tr th:only-of-type {\n",
       "        vertical-align: middle;\n",
       "    }\n",
       "\n",
       "    .dataframe tbody tr th {\n",
       "        vertical-align: top;\n",
       "    }\n",
       "\n",
       "    .dataframe thead th {\n",
       "        text-align: right;\n",
       "    }\n",
       "</style>\n",
       "<table border=\"1\" class=\"dataframe\">\n",
       "  <thead>\n",
       "    <tr style=\"text-align: right;\">\n",
       "      <th></th>\n",
       "      <th>Unnamed: 0</th>\n",
       "      <th>Name</th>\n",
       "      <th>Location</th>\n",
       "      <th>Year</th>\n",
       "      <th>Kilometers_Driven</th>\n",
       "      <th>Fuel_Type</th>\n",
       "      <th>Transmission</th>\n",
       "      <th>Owner_Type</th>\n",
       "      <th>Mileage</th>\n",
       "      <th>Engine</th>\n",
       "      <th>Power</th>\n",
       "      <th>Seats</th>\n",
       "      <th>New_Price</th>\n",
       "      <th>Price</th>\n",
       "    </tr>\n",
       "  </thead>\n",
       "  <tbody>\n",
       "    <tr>\n",
       "      <th>0</th>\n",
       "      <td>0</td>\n",
       "      <td>Maruti Wagon R LXI CNG</td>\n",
       "      <td>Mumbai</td>\n",
       "      <td>2010</td>\n",
       "      <td>72000</td>\n",
       "      <td>CNG</td>\n",
       "      <td>Manual</td>\n",
       "      <td>First</td>\n",
       "      <td>26.6 km/kg</td>\n",
       "      <td>998 CC</td>\n",
       "      <td>58.16 bhp</td>\n",
       "      <td>5.0</td>\n",
       "      <td>NaN</td>\n",
       "      <td>1.75</td>\n",
       "    </tr>\n",
       "    <tr>\n",
       "      <th>1</th>\n",
       "      <td>1</td>\n",
       "      <td>Hyundai Creta 1.6 CRDi SX Option</td>\n",
       "      <td>Pune</td>\n",
       "      <td>2015</td>\n",
       "      <td>41000</td>\n",
       "      <td>Diesel</td>\n",
       "      <td>Manual</td>\n",
       "      <td>First</td>\n",
       "      <td>19.67 kmpl</td>\n",
       "      <td>1582 CC</td>\n",
       "      <td>126.2 bhp</td>\n",
       "      <td>5.0</td>\n",
       "      <td>NaN</td>\n",
       "      <td>12.50</td>\n",
       "    </tr>\n",
       "    <tr>\n",
       "      <th>2</th>\n",
       "      <td>2</td>\n",
       "      <td>Honda Jazz V</td>\n",
       "      <td>Chennai</td>\n",
       "      <td>2011</td>\n",
       "      <td>46000</td>\n",
       "      <td>Petrol</td>\n",
       "      <td>Manual</td>\n",
       "      <td>First</td>\n",
       "      <td>18.2 kmpl</td>\n",
       "      <td>1199 CC</td>\n",
       "      <td>88.7 bhp</td>\n",
       "      <td>5.0</td>\n",
       "      <td>8.61 Lakh</td>\n",
       "      <td>4.50</td>\n",
       "    </tr>\n",
       "    <tr>\n",
       "      <th>3</th>\n",
       "      <td>3</td>\n",
       "      <td>Maruti Ertiga VDI</td>\n",
       "      <td>Chennai</td>\n",
       "      <td>2012</td>\n",
       "      <td>87000</td>\n",
       "      <td>Diesel</td>\n",
       "      <td>Manual</td>\n",
       "      <td>First</td>\n",
       "      <td>20.77 kmpl</td>\n",
       "      <td>1248 CC</td>\n",
       "      <td>88.76 bhp</td>\n",
       "      <td>7.0</td>\n",
       "      <td>NaN</td>\n",
       "      <td>6.00</td>\n",
       "    </tr>\n",
       "    <tr>\n",
       "      <th>4</th>\n",
       "      <td>4</td>\n",
       "      <td>Audi A4 New 2.0 TDI Multitronic</td>\n",
       "      <td>Coimbatore</td>\n",
       "      <td>2013</td>\n",
       "      <td>40670</td>\n",
       "      <td>Diesel</td>\n",
       "      <td>Automatic</td>\n",
       "      <td>Second</td>\n",
       "      <td>15.2 kmpl</td>\n",
       "      <td>1968 CC</td>\n",
       "      <td>140.8 bhp</td>\n",
       "      <td>5.0</td>\n",
       "      <td>NaN</td>\n",
       "      <td>17.74</td>\n",
       "    </tr>\n",
       "    <tr>\n",
       "      <th>...</th>\n",
       "      <td>...</td>\n",
       "      <td>...</td>\n",
       "      <td>...</td>\n",
       "      <td>...</td>\n",
       "      <td>...</td>\n",
       "      <td>...</td>\n",
       "      <td>...</td>\n",
       "      <td>...</td>\n",
       "      <td>...</td>\n",
       "      <td>...</td>\n",
       "      <td>...</td>\n",
       "      <td>...</td>\n",
       "      <td>...</td>\n",
       "      <td>...</td>\n",
       "    </tr>\n",
       "    <tr>\n",
       "      <th>6014</th>\n",
       "      <td>6014</td>\n",
       "      <td>Maruti Swift VDI</td>\n",
       "      <td>Delhi</td>\n",
       "      <td>2014</td>\n",
       "      <td>27365</td>\n",
       "      <td>Diesel</td>\n",
       "      <td>Manual</td>\n",
       "      <td>First</td>\n",
       "      <td>28.4 kmpl</td>\n",
       "      <td>1248 CC</td>\n",
       "      <td>74 bhp</td>\n",
       "      <td>5.0</td>\n",
       "      <td>7.88 Lakh</td>\n",
       "      <td>4.75</td>\n",
       "    </tr>\n",
       "    <tr>\n",
       "      <th>6015</th>\n",
       "      <td>6015</td>\n",
       "      <td>Hyundai Xcent 1.1 CRDi S</td>\n",
       "      <td>Jaipur</td>\n",
       "      <td>2015</td>\n",
       "      <td>100000</td>\n",
       "      <td>Diesel</td>\n",
       "      <td>Manual</td>\n",
       "      <td>First</td>\n",
       "      <td>24.4 kmpl</td>\n",
       "      <td>1120 CC</td>\n",
       "      <td>71 bhp</td>\n",
       "      <td>5.0</td>\n",
       "      <td>NaN</td>\n",
       "      <td>4.00</td>\n",
       "    </tr>\n",
       "    <tr>\n",
       "      <th>6016</th>\n",
       "      <td>6016</td>\n",
       "      <td>Mahindra Xylo D4 BSIV</td>\n",
       "      <td>Jaipur</td>\n",
       "      <td>2012</td>\n",
       "      <td>55000</td>\n",
       "      <td>Diesel</td>\n",
       "      <td>Manual</td>\n",
       "      <td>Second</td>\n",
       "      <td>14.0 kmpl</td>\n",
       "      <td>2498 CC</td>\n",
       "      <td>112 bhp</td>\n",
       "      <td>8.0</td>\n",
       "      <td>NaN</td>\n",
       "      <td>2.90</td>\n",
       "    </tr>\n",
       "    <tr>\n",
       "      <th>6017</th>\n",
       "      <td>6017</td>\n",
       "      <td>Maruti Wagon R VXI</td>\n",
       "      <td>Kolkata</td>\n",
       "      <td>2013</td>\n",
       "      <td>46000</td>\n",
       "      <td>Petrol</td>\n",
       "      <td>Manual</td>\n",
       "      <td>First</td>\n",
       "      <td>18.9 kmpl</td>\n",
       "      <td>998 CC</td>\n",
       "      <td>67.1 bhp</td>\n",
       "      <td>5.0</td>\n",
       "      <td>NaN</td>\n",
       "      <td>2.65</td>\n",
       "    </tr>\n",
       "    <tr>\n",
       "      <th>6018</th>\n",
       "      <td>6018</td>\n",
       "      <td>Chevrolet Beat Diesel</td>\n",
       "      <td>Hyderabad</td>\n",
       "      <td>2011</td>\n",
       "      <td>47000</td>\n",
       "      <td>Diesel</td>\n",
       "      <td>Manual</td>\n",
       "      <td>First</td>\n",
       "      <td>25.44 kmpl</td>\n",
       "      <td>936 CC</td>\n",
       "      <td>57.6 bhp</td>\n",
       "      <td>5.0</td>\n",
       "      <td>NaN</td>\n",
       "      <td>2.50</td>\n",
       "    </tr>\n",
       "  </tbody>\n",
       "</table>\n",
       "<p>6019 rows × 14 columns</p>\n",
       "</div>"
      ],
      "text/plain": [
       "      Unnamed: 0                              Name    Location  Year  \\\n",
       "0              0            Maruti Wagon R LXI CNG      Mumbai  2010   \n",
       "1              1  Hyundai Creta 1.6 CRDi SX Option        Pune  2015   \n",
       "2              2                      Honda Jazz V     Chennai  2011   \n",
       "3              3                 Maruti Ertiga VDI     Chennai  2012   \n",
       "4              4   Audi A4 New 2.0 TDI Multitronic  Coimbatore  2013   \n",
       "...          ...                               ...         ...   ...   \n",
       "6014        6014                  Maruti Swift VDI       Delhi  2014   \n",
       "6015        6015          Hyundai Xcent 1.1 CRDi S      Jaipur  2015   \n",
       "6016        6016             Mahindra Xylo D4 BSIV      Jaipur  2012   \n",
       "6017        6017                Maruti Wagon R VXI     Kolkata  2013   \n",
       "6018        6018             Chevrolet Beat Diesel   Hyderabad  2011   \n",
       "\n",
       "      Kilometers_Driven Fuel_Type Transmission Owner_Type     Mileage  \\\n",
       "0                 72000       CNG       Manual      First  26.6 km/kg   \n",
       "1                 41000    Diesel       Manual      First  19.67 kmpl   \n",
       "2                 46000    Petrol       Manual      First   18.2 kmpl   \n",
       "3                 87000    Diesel       Manual      First  20.77 kmpl   \n",
       "4                 40670    Diesel    Automatic     Second   15.2 kmpl   \n",
       "...                 ...       ...          ...        ...         ...   \n",
       "6014              27365    Diesel       Manual      First   28.4 kmpl   \n",
       "6015             100000    Diesel       Manual      First   24.4 kmpl   \n",
       "6016              55000    Diesel       Manual     Second   14.0 kmpl   \n",
       "6017              46000    Petrol       Manual      First   18.9 kmpl   \n",
       "6018              47000    Diesel       Manual      First  25.44 kmpl   \n",
       "\n",
       "       Engine      Power  Seats  New_Price  Price  \n",
       "0      998 CC  58.16 bhp    5.0        NaN   1.75  \n",
       "1     1582 CC  126.2 bhp    5.0        NaN  12.50  \n",
       "2     1199 CC   88.7 bhp    5.0  8.61 Lakh   4.50  \n",
       "3     1248 CC  88.76 bhp    7.0        NaN   6.00  \n",
       "4     1968 CC  140.8 bhp    5.0        NaN  17.74  \n",
       "...       ...        ...    ...        ...    ...  \n",
       "6014  1248 CC     74 bhp    5.0  7.88 Lakh   4.75  \n",
       "6015  1120 CC     71 bhp    5.0        NaN   4.00  \n",
       "6016  2498 CC    112 bhp    8.0        NaN   2.90  \n",
       "6017   998 CC   67.1 bhp    5.0        NaN   2.65  \n",
       "6018   936 CC   57.6 bhp    5.0        NaN   2.50  \n",
       "\n",
       "[6019 rows x 14 columns]"
      ]
     },
     "execution_count": 2,
     "metadata": {},
     "output_type": "execute_result"
    }
   ],
   "source": [
    "cars=pd.read_csv('./Project-2(sem-4)/train-data.csv')\n",
    "cars"
   ]
  },
  {
   "cell_type": "code",
   "execution_count": 3,
   "id": "0ccfc71a",
   "metadata": {},
   "outputs": [],
   "source": [
    "cars=cars.drop(['Unnamed: 0','New_Price'],axis=1)"
   ]
  },
  {
   "cell_type": "code",
   "execution_count": 4,
   "id": "131ebf70",
   "metadata": {},
   "outputs": [],
   "source": [
    "cars.drop_duplicates(inplace=True)"
   ]
  },
  {
   "cell_type": "code",
   "execution_count": 5,
   "id": "811e7e44",
   "metadata": {},
   "outputs": [
    {
     "data": {
      "text/html": [
       "<div>\n",
       "<style scoped>\n",
       "    .dataframe tbody tr th:only-of-type {\n",
       "        vertical-align: middle;\n",
       "    }\n",
       "\n",
       "    .dataframe tbody tr th {\n",
       "        vertical-align: top;\n",
       "    }\n",
       "\n",
       "    .dataframe thead th {\n",
       "        text-align: right;\n",
       "    }\n",
       "</style>\n",
       "<table border=\"1\" class=\"dataframe\">\n",
       "  <thead>\n",
       "    <tr style=\"text-align: right;\">\n",
       "      <th></th>\n",
       "      <th>Name</th>\n",
       "      <th>Location</th>\n",
       "      <th>Year</th>\n",
       "      <th>Kilometers_Driven</th>\n",
       "      <th>Fuel_Type</th>\n",
       "      <th>Transmission</th>\n",
       "      <th>Owner_Type</th>\n",
       "      <th>Mileage</th>\n",
       "      <th>Engine</th>\n",
       "      <th>Power</th>\n",
       "      <th>Seats</th>\n",
       "      <th>Price</th>\n",
       "    </tr>\n",
       "  </thead>\n",
       "  <tbody>\n",
       "    <tr>\n",
       "      <th>0</th>\n",
       "      <td>Maruti Wagon R LXI CNG</td>\n",
       "      <td>Mumbai</td>\n",
       "      <td>2010</td>\n",
       "      <td>72000</td>\n",
       "      <td>CNG</td>\n",
       "      <td>Manual</td>\n",
       "      <td>First</td>\n",
       "      <td>26.6 km/kg</td>\n",
       "      <td>998 CC</td>\n",
       "      <td>58.16 bhp</td>\n",
       "      <td>5.0</td>\n",
       "      <td>1.75</td>\n",
       "    </tr>\n",
       "    <tr>\n",
       "      <th>1</th>\n",
       "      <td>Hyundai Creta 1.6 CRDi SX Option</td>\n",
       "      <td>Pune</td>\n",
       "      <td>2015</td>\n",
       "      <td>41000</td>\n",
       "      <td>Diesel</td>\n",
       "      <td>Manual</td>\n",
       "      <td>First</td>\n",
       "      <td>19.67 kmpl</td>\n",
       "      <td>1582 CC</td>\n",
       "      <td>126.2 bhp</td>\n",
       "      <td>5.0</td>\n",
       "      <td>12.50</td>\n",
       "    </tr>\n",
       "    <tr>\n",
       "      <th>2</th>\n",
       "      <td>Honda Jazz V</td>\n",
       "      <td>Chennai</td>\n",
       "      <td>2011</td>\n",
       "      <td>46000</td>\n",
       "      <td>Petrol</td>\n",
       "      <td>Manual</td>\n",
       "      <td>First</td>\n",
       "      <td>18.2 kmpl</td>\n",
       "      <td>1199 CC</td>\n",
       "      <td>88.7 bhp</td>\n",
       "      <td>5.0</td>\n",
       "      <td>4.50</td>\n",
       "    </tr>\n",
       "    <tr>\n",
       "      <th>3</th>\n",
       "      <td>Maruti Ertiga VDI</td>\n",
       "      <td>Chennai</td>\n",
       "      <td>2012</td>\n",
       "      <td>87000</td>\n",
       "      <td>Diesel</td>\n",
       "      <td>Manual</td>\n",
       "      <td>First</td>\n",
       "      <td>20.77 kmpl</td>\n",
       "      <td>1248 CC</td>\n",
       "      <td>88.76 bhp</td>\n",
       "      <td>7.0</td>\n",
       "      <td>6.00</td>\n",
       "    </tr>\n",
       "    <tr>\n",
       "      <th>4</th>\n",
       "      <td>Audi A4 New 2.0 TDI Multitronic</td>\n",
       "      <td>Coimbatore</td>\n",
       "      <td>2013</td>\n",
       "      <td>40670</td>\n",
       "      <td>Diesel</td>\n",
       "      <td>Automatic</td>\n",
       "      <td>Second</td>\n",
       "      <td>15.2 kmpl</td>\n",
       "      <td>1968 CC</td>\n",
       "      <td>140.8 bhp</td>\n",
       "      <td>5.0</td>\n",
       "      <td>17.74</td>\n",
       "    </tr>\n",
       "    <tr>\n",
       "      <th>...</th>\n",
       "      <td>...</td>\n",
       "      <td>...</td>\n",
       "      <td>...</td>\n",
       "      <td>...</td>\n",
       "      <td>...</td>\n",
       "      <td>...</td>\n",
       "      <td>...</td>\n",
       "      <td>...</td>\n",
       "      <td>...</td>\n",
       "      <td>...</td>\n",
       "      <td>...</td>\n",
       "      <td>...</td>\n",
       "    </tr>\n",
       "    <tr>\n",
       "      <th>6014</th>\n",
       "      <td>Maruti Swift VDI</td>\n",
       "      <td>Delhi</td>\n",
       "      <td>2014</td>\n",
       "      <td>27365</td>\n",
       "      <td>Diesel</td>\n",
       "      <td>Manual</td>\n",
       "      <td>First</td>\n",
       "      <td>28.4 kmpl</td>\n",
       "      <td>1248 CC</td>\n",
       "      <td>74 bhp</td>\n",
       "      <td>5.0</td>\n",
       "      <td>4.75</td>\n",
       "    </tr>\n",
       "    <tr>\n",
       "      <th>6015</th>\n",
       "      <td>Hyundai Xcent 1.1 CRDi S</td>\n",
       "      <td>Jaipur</td>\n",
       "      <td>2015</td>\n",
       "      <td>100000</td>\n",
       "      <td>Diesel</td>\n",
       "      <td>Manual</td>\n",
       "      <td>First</td>\n",
       "      <td>24.4 kmpl</td>\n",
       "      <td>1120 CC</td>\n",
       "      <td>71 bhp</td>\n",
       "      <td>5.0</td>\n",
       "      <td>4.00</td>\n",
       "    </tr>\n",
       "    <tr>\n",
       "      <th>6016</th>\n",
       "      <td>Mahindra Xylo D4 BSIV</td>\n",
       "      <td>Jaipur</td>\n",
       "      <td>2012</td>\n",
       "      <td>55000</td>\n",
       "      <td>Diesel</td>\n",
       "      <td>Manual</td>\n",
       "      <td>Second</td>\n",
       "      <td>14.0 kmpl</td>\n",
       "      <td>2498 CC</td>\n",
       "      <td>112 bhp</td>\n",
       "      <td>8.0</td>\n",
       "      <td>2.90</td>\n",
       "    </tr>\n",
       "    <tr>\n",
       "      <th>6017</th>\n",
       "      <td>Maruti Wagon R VXI</td>\n",
       "      <td>Kolkata</td>\n",
       "      <td>2013</td>\n",
       "      <td>46000</td>\n",
       "      <td>Petrol</td>\n",
       "      <td>Manual</td>\n",
       "      <td>First</td>\n",
       "      <td>18.9 kmpl</td>\n",
       "      <td>998 CC</td>\n",
       "      <td>67.1 bhp</td>\n",
       "      <td>5.0</td>\n",
       "      <td>2.65</td>\n",
       "    </tr>\n",
       "    <tr>\n",
       "      <th>6018</th>\n",
       "      <td>Chevrolet Beat Diesel</td>\n",
       "      <td>Hyderabad</td>\n",
       "      <td>2011</td>\n",
       "      <td>47000</td>\n",
       "      <td>Diesel</td>\n",
       "      <td>Manual</td>\n",
       "      <td>First</td>\n",
       "      <td>25.44 kmpl</td>\n",
       "      <td>936 CC</td>\n",
       "      <td>57.6 bhp</td>\n",
       "      <td>5.0</td>\n",
       "      <td>2.50</td>\n",
       "    </tr>\n",
       "  </tbody>\n",
       "</table>\n",
       "<p>6019 rows × 12 columns</p>\n",
       "</div>"
      ],
      "text/plain": [
       "                                  Name    Location  Year  Kilometers_Driven  \\\n",
       "0               Maruti Wagon R LXI CNG      Mumbai  2010              72000   \n",
       "1     Hyundai Creta 1.6 CRDi SX Option        Pune  2015              41000   \n",
       "2                         Honda Jazz V     Chennai  2011              46000   \n",
       "3                    Maruti Ertiga VDI     Chennai  2012              87000   \n",
       "4      Audi A4 New 2.0 TDI Multitronic  Coimbatore  2013              40670   \n",
       "...                                ...         ...   ...                ...   \n",
       "6014                  Maruti Swift VDI       Delhi  2014              27365   \n",
       "6015          Hyundai Xcent 1.1 CRDi S      Jaipur  2015             100000   \n",
       "6016             Mahindra Xylo D4 BSIV      Jaipur  2012              55000   \n",
       "6017                Maruti Wagon R VXI     Kolkata  2013              46000   \n",
       "6018             Chevrolet Beat Diesel   Hyderabad  2011              47000   \n",
       "\n",
       "     Fuel_Type Transmission Owner_Type     Mileage   Engine      Power  Seats  \\\n",
       "0          CNG       Manual      First  26.6 km/kg   998 CC  58.16 bhp    5.0   \n",
       "1       Diesel       Manual      First  19.67 kmpl  1582 CC  126.2 bhp    5.0   \n",
       "2       Petrol       Manual      First   18.2 kmpl  1199 CC   88.7 bhp    5.0   \n",
       "3       Diesel       Manual      First  20.77 kmpl  1248 CC  88.76 bhp    7.0   \n",
       "4       Diesel    Automatic     Second   15.2 kmpl  1968 CC  140.8 bhp    5.0   \n",
       "...        ...          ...        ...         ...      ...        ...    ...   \n",
       "6014    Diesel       Manual      First   28.4 kmpl  1248 CC     74 bhp    5.0   \n",
       "6015    Diesel       Manual      First   24.4 kmpl  1120 CC     71 bhp    5.0   \n",
       "6016    Diesel       Manual     Second   14.0 kmpl  2498 CC    112 bhp    8.0   \n",
       "6017    Petrol       Manual      First   18.9 kmpl   998 CC   67.1 bhp    5.0   \n",
       "6018    Diesel       Manual      First  25.44 kmpl   936 CC   57.6 bhp    5.0   \n",
       "\n",
       "      Price  \n",
       "0      1.75  \n",
       "1     12.50  \n",
       "2      4.50  \n",
       "3      6.00  \n",
       "4     17.74  \n",
       "...     ...  \n",
       "6014   4.75  \n",
       "6015   4.00  \n",
       "6016   2.90  \n",
       "6017   2.65  \n",
       "6018   2.50  \n",
       "\n",
       "[6019 rows x 12 columns]"
      ]
     },
     "execution_count": 5,
     "metadata": {},
     "output_type": "execute_result"
    }
   ],
   "source": [
    "cars"
   ]
  },
  {
   "cell_type": "code",
   "execution_count": 6,
   "id": "6e6d61e5",
   "metadata": {
    "scrolled": false
   },
   "outputs": [
    {
     "name": "stdout",
     "output_type": "stream",
     "text": [
      "<class 'pandas.core.frame.DataFrame'>\n",
      "Int64Index: 6019 entries, 0 to 6018\n",
      "Data columns (total 12 columns):\n",
      " #   Column             Non-Null Count  Dtype  \n",
      "---  ------             --------------  -----  \n",
      " 0   Name               6019 non-null   object \n",
      " 1   Location           6019 non-null   object \n",
      " 2   Year               6019 non-null   int64  \n",
      " 3   Kilometers_Driven  6019 non-null   int64  \n",
      " 4   Fuel_Type          6019 non-null   object \n",
      " 5   Transmission       6019 non-null   object \n",
      " 6   Owner_Type         6019 non-null   object \n",
      " 7   Mileage            6017 non-null   object \n",
      " 8   Engine             5983 non-null   object \n",
      " 9   Power              5983 non-null   object \n",
      " 10  Seats              5977 non-null   float64\n",
      " 11  Price              6019 non-null   float64\n",
      "dtypes: float64(2), int64(2), object(8)\n",
      "memory usage: 611.3+ KB\n"
     ]
    }
   ],
   "source": [
    "cars.info()"
   ]
  },
  {
   "cell_type": "code",
   "execution_count": 7,
   "id": "16332bb6",
   "metadata": {},
   "outputs": [],
   "source": [
    "cars['Mileage'] = cars['Mileage'].str.split(r'\\D').str.get(1)\n",
    "cars['Engine'] = cars['Engine'].str.extract(r'(\\d+) ', expand=False)\n",
    "cars['Power'] = cars['Power'].str.extract(r'(\\d+) ', expand=False)"
   ]
  },
  {
   "cell_type": "code",
   "execution_count": 8,
   "id": "2c759316",
   "metadata": {},
   "outputs": [],
   "source": [
    "from sklearn.impute import SimpleImputer\n",
    "\n",
    "null_col = ['Mileage', 'Engine' , 'Power']\n",
    "\n",
    "imputer = SimpleImputer(strategy='mean')\n",
    "cars[null_col] = imputer.fit_transform(cars[null_col])"
   ]
  },
  {
   "cell_type": "code",
   "execution_count": 9,
   "id": "dd1a20cd",
   "metadata": {},
   "outputs": [],
   "source": [
    "#making sure all data types are correct\n",
    "cars = cars.convert_dtypes()"
   ]
  },
  {
   "cell_type": "code",
   "execution_count": 10,
   "id": "fb3f99fa",
   "metadata": {},
   "outputs": [
    {
     "name": "stdout",
     "output_type": "stream",
     "text": [
      "<class 'pandas.core.frame.DataFrame'>\n",
      "Int64Index: 6019 entries, 0 to 6018\n",
      "Data columns (total 12 columns):\n",
      " #   Column             Non-Null Count  Dtype  \n",
      "---  ------             --------------  -----  \n",
      " 0   Name               6019 non-null   string \n",
      " 1   Location           6019 non-null   string \n",
      " 2   Year               6019 non-null   Int64  \n",
      " 3   Kilometers_Driven  6019 non-null   Int64  \n",
      " 4   Fuel_Type          6019 non-null   string \n",
      " 5   Transmission       6019 non-null   string \n",
      " 6   Owner_Type         6019 non-null   string \n",
      " 7   Mileage            6019 non-null   Float64\n",
      " 8   Engine             6019 non-null   Float64\n",
      " 9   Power              6019 non-null   Float64\n",
      " 10  Seats              5977 non-null   Int64  \n",
      " 11  Price              6019 non-null   Float64\n",
      "dtypes: Float64(4), Int64(3), string(5)\n",
      "memory usage: 652.5 KB\n"
     ]
    }
   ],
   "source": [
    "cars.info()"
   ]
  },
  {
   "cell_type": "code",
   "execution_count": 11,
   "id": "4318e75f",
   "metadata": {},
   "outputs": [
    {
     "data": {
      "text/plain": [
       "True"
      ]
     },
     "execution_count": 11,
     "metadata": {},
     "output_type": "execute_result"
    }
   ],
   "source": [
    "cars['Seats'].isnull().any()"
   ]
  },
  {
   "cell_type": "code",
   "execution_count": 12,
   "id": "2331c375",
   "metadata": {},
   "outputs": [],
   "source": [
    "value=cars['Seats'].mode()[0]\n",
    "cars['Seats'].fillna(value,inplace=True)"
   ]
  },
  {
   "cell_type": "code",
   "execution_count": 13,
   "id": "f61cec53",
   "metadata": {},
   "outputs": [
    {
     "data": {
      "text/html": [
       "<div>\n",
       "<style scoped>\n",
       "    .dataframe tbody tr th:only-of-type {\n",
       "        vertical-align: middle;\n",
       "    }\n",
       "\n",
       "    .dataframe tbody tr th {\n",
       "        vertical-align: top;\n",
       "    }\n",
       "\n",
       "    .dataframe thead th {\n",
       "        text-align: right;\n",
       "    }\n",
       "</style>\n",
       "<table border=\"1\" class=\"dataframe\">\n",
       "  <thead>\n",
       "    <tr style=\"text-align: right;\">\n",
       "      <th></th>\n",
       "      <th>Name</th>\n",
       "      <th>Location</th>\n",
       "      <th>Year</th>\n",
       "      <th>Kilometers_Driven</th>\n",
       "      <th>Fuel_Type</th>\n",
       "      <th>Transmission</th>\n",
       "      <th>Owner_Type</th>\n",
       "      <th>Mileage</th>\n",
       "      <th>Engine</th>\n",
       "      <th>Power</th>\n",
       "      <th>Seats</th>\n",
       "      <th>Price</th>\n",
       "    </tr>\n",
       "  </thead>\n",
       "  <tbody>\n",
       "  </tbody>\n",
       "</table>\n",
       "</div>"
      ],
      "text/plain": [
       "Empty DataFrame\n",
       "Columns: [Name, Location, Year, Kilometers_Driven, Fuel_Type, Transmission, Owner_Type, Mileage, Engine, Power, Seats, Price]\n",
       "Index: []"
      ]
     },
     "execution_count": 13,
     "metadata": {},
     "output_type": "execute_result"
    }
   ],
   "source": [
    "ind=cars[cars['Seats'].isnull()].index\n",
    "cars.loc[ind]"
   ]
  },
  {
   "cell_type": "code",
   "execution_count": 14,
   "id": "90deaf1b",
   "metadata": {},
   "outputs": [
    {
     "name": "stdout",
     "output_type": "stream",
     "text": [
      "<class 'pandas.core.frame.DataFrame'>\n",
      "Int64Index: 6019 entries, 0 to 6018\n",
      "Data columns (total 12 columns):\n",
      " #   Column             Non-Null Count  Dtype  \n",
      "---  ------             --------------  -----  \n",
      " 0   Name               6019 non-null   string \n",
      " 1   Location           6019 non-null   string \n",
      " 2   Year               6019 non-null   Int64  \n",
      " 3   Kilometers_Driven  6019 non-null   Int64  \n",
      " 4   Fuel_Type          6019 non-null   string \n",
      " 5   Transmission       6019 non-null   string \n",
      " 6   Owner_Type         6019 non-null   string \n",
      " 7   Mileage            6019 non-null   Float64\n",
      " 8   Engine             6019 non-null   Float64\n",
      " 9   Power              6019 non-null   Float64\n",
      " 10  Seats              6019 non-null   Int64  \n",
      " 11  Price              6019 non-null   Float64\n",
      "dtypes: Float64(4), Int64(3), string(5)\n",
      "memory usage: 781.5 KB\n"
     ]
    }
   ],
   "source": [
    "cars.info()"
   ]
  },
  {
   "cell_type": "code",
   "execution_count": 15,
   "id": "2fde5339",
   "metadata": {},
   "outputs": [],
   "source": [
    "cars['Seats'].replace(to_replace=0 ,value= cars['Seats'].mode()[0],inplace=True)"
   ]
  },
  {
   "cell_type": "code",
   "execution_count": 16,
   "id": "e87f0bbf",
   "metadata": {},
   "outputs": [
    {
     "name": "stdout",
     "output_type": "stream",
     "text": [
      "<class 'pandas.core.frame.DataFrame'>\n",
      "Int64Index: 6019 entries, 0 to 6018\n",
      "Data columns (total 12 columns):\n",
      " #   Column             Non-Null Count  Dtype  \n",
      "---  ------             --------------  -----  \n",
      " 0   Name               6019 non-null   string \n",
      " 1   Location           6019 non-null   string \n",
      " 2   Year               6019 non-null   Int64  \n",
      " 3   Kilometers_Driven  6019 non-null   Int64  \n",
      " 4   Fuel_Type          6019 non-null   string \n",
      " 5   Transmission       6019 non-null   string \n",
      " 6   Owner_Type         6019 non-null   string \n",
      " 7   Mileage            6019 non-null   Float64\n",
      " 8   Engine             6019 non-null   Float64\n",
      " 9   Power              6019 non-null   Float64\n",
      " 10  Seats              6019 non-null   Int64  \n",
      " 11  Price              6019 non-null   Float64\n",
      "dtypes: Float64(4), Int64(3), string(5)\n",
      "memory usage: 781.5 KB\n"
     ]
    }
   ],
   "source": [
    "cars.info()"
   ]
  },
  {
   "cell_type": "code",
   "execution_count": 17,
   "id": "244e8613",
   "metadata": {},
   "outputs": [
    {
     "data": {
      "text/html": [
       "<div>\n",
       "<style scoped>\n",
       "    .dataframe tbody tr th:only-of-type {\n",
       "        vertical-align: middle;\n",
       "    }\n",
       "\n",
       "    .dataframe tbody tr th {\n",
       "        vertical-align: top;\n",
       "    }\n",
       "\n",
       "    .dataframe thead th {\n",
       "        text-align: right;\n",
       "    }\n",
       "</style>\n",
       "<table border=\"1\" class=\"dataframe\">\n",
       "  <thead>\n",
       "    <tr style=\"text-align: right;\">\n",
       "      <th></th>\n",
       "      <th>Name</th>\n",
       "      <th>Location</th>\n",
       "      <th>Year</th>\n",
       "      <th>Kilometers_Driven</th>\n",
       "      <th>Fuel_Type</th>\n",
       "      <th>Transmission</th>\n",
       "      <th>Owner_Type</th>\n",
       "      <th>Mileage</th>\n",
       "      <th>Engine</th>\n",
       "      <th>Power</th>\n",
       "      <th>Seats</th>\n",
       "      <th>Price</th>\n",
       "    </tr>\n",
       "  </thead>\n",
       "  <tbody>\n",
       "    <tr>\n",
       "      <th>0</th>\n",
       "      <td>Maruti Wagon R LXI CNG</td>\n",
       "      <td>Mumbai</td>\n",
       "      <td>2010</td>\n",
       "      <td>72000</td>\n",
       "      <td>CNG</td>\n",
       "      <td>Manual</td>\n",
       "      <td>First</td>\n",
       "      <td>6.0</td>\n",
       "      <td>998.0</td>\n",
       "      <td>16.0</td>\n",
       "      <td>5</td>\n",
       "      <td>1.75</td>\n",
       "    </tr>\n",
       "    <tr>\n",
       "      <th>1</th>\n",
       "      <td>Hyundai Creta 1.6 CRDi SX Option</td>\n",
       "      <td>Pune</td>\n",
       "      <td>2015</td>\n",
       "      <td>41000</td>\n",
       "      <td>Diesel</td>\n",
       "      <td>Manual</td>\n",
       "      <td>First</td>\n",
       "      <td>67.0</td>\n",
       "      <td>1582.0</td>\n",
       "      <td>2.0</td>\n",
       "      <td>5</td>\n",
       "      <td>12.5</td>\n",
       "    </tr>\n",
       "    <tr>\n",
       "      <th>2</th>\n",
       "      <td>Honda Jazz V</td>\n",
       "      <td>Chennai</td>\n",
       "      <td>2011</td>\n",
       "      <td>46000</td>\n",
       "      <td>Petrol</td>\n",
       "      <td>Manual</td>\n",
       "      <td>First</td>\n",
       "      <td>2.0</td>\n",
       "      <td>1199.0</td>\n",
       "      <td>7.0</td>\n",
       "      <td>5</td>\n",
       "      <td>4.5</td>\n",
       "    </tr>\n",
       "    <tr>\n",
       "      <th>3</th>\n",
       "      <td>Maruti Ertiga VDI</td>\n",
       "      <td>Chennai</td>\n",
       "      <td>2012</td>\n",
       "      <td>87000</td>\n",
       "      <td>Diesel</td>\n",
       "      <td>Manual</td>\n",
       "      <td>First</td>\n",
       "      <td>77.0</td>\n",
       "      <td>1248.0</td>\n",
       "      <td>76.0</td>\n",
       "      <td>7</td>\n",
       "      <td>6.0</td>\n",
       "    </tr>\n",
       "    <tr>\n",
       "      <th>4</th>\n",
       "      <td>Audi A4 New 2.0 TDI Multitronic</td>\n",
       "      <td>Coimbatore</td>\n",
       "      <td>2013</td>\n",
       "      <td>40670</td>\n",
       "      <td>Diesel</td>\n",
       "      <td>Automatic</td>\n",
       "      <td>Second</td>\n",
       "      <td>2.0</td>\n",
       "      <td>1968.0</td>\n",
       "      <td>8.0</td>\n",
       "      <td>5</td>\n",
       "      <td>17.74</td>\n",
       "    </tr>\n",
       "    <tr>\n",
       "      <th>...</th>\n",
       "      <td>...</td>\n",
       "      <td>...</td>\n",
       "      <td>...</td>\n",
       "      <td>...</td>\n",
       "      <td>...</td>\n",
       "      <td>...</td>\n",
       "      <td>...</td>\n",
       "      <td>...</td>\n",
       "      <td>...</td>\n",
       "      <td>...</td>\n",
       "      <td>...</td>\n",
       "      <td>...</td>\n",
       "    </tr>\n",
       "    <tr>\n",
       "      <th>6014</th>\n",
       "      <td>Maruti Swift VDI</td>\n",
       "      <td>Delhi</td>\n",
       "      <td>2014</td>\n",
       "      <td>27365</td>\n",
       "      <td>Diesel</td>\n",
       "      <td>Manual</td>\n",
       "      <td>First</td>\n",
       "      <td>4.0</td>\n",
       "      <td>1248.0</td>\n",
       "      <td>74.0</td>\n",
       "      <td>5</td>\n",
       "      <td>4.75</td>\n",
       "    </tr>\n",
       "    <tr>\n",
       "      <th>6015</th>\n",
       "      <td>Hyundai Xcent 1.1 CRDi S</td>\n",
       "      <td>Jaipur</td>\n",
       "      <td>2015</td>\n",
       "      <td>100000</td>\n",
       "      <td>Diesel</td>\n",
       "      <td>Manual</td>\n",
       "      <td>First</td>\n",
       "      <td>4.0</td>\n",
       "      <td>1120.0</td>\n",
       "      <td>71.0</td>\n",
       "      <td>5</td>\n",
       "      <td>4.0</td>\n",
       "    </tr>\n",
       "    <tr>\n",
       "      <th>6016</th>\n",
       "      <td>Mahindra Xylo D4 BSIV</td>\n",
       "      <td>Jaipur</td>\n",
       "      <td>2012</td>\n",
       "      <td>55000</td>\n",
       "      <td>Diesel</td>\n",
       "      <td>Manual</td>\n",
       "      <td>Second</td>\n",
       "      <td>0.0</td>\n",
       "      <td>2498.0</td>\n",
       "      <td>112.0</td>\n",
       "      <td>8</td>\n",
       "      <td>2.9</td>\n",
       "    </tr>\n",
       "    <tr>\n",
       "      <th>6017</th>\n",
       "      <td>Maruti Wagon R VXI</td>\n",
       "      <td>Kolkata</td>\n",
       "      <td>2013</td>\n",
       "      <td>46000</td>\n",
       "      <td>Petrol</td>\n",
       "      <td>Manual</td>\n",
       "      <td>First</td>\n",
       "      <td>9.0</td>\n",
       "      <td>998.0</td>\n",
       "      <td>1.0</td>\n",
       "      <td>5</td>\n",
       "      <td>2.65</td>\n",
       "    </tr>\n",
       "    <tr>\n",
       "      <th>6018</th>\n",
       "      <td>Chevrolet Beat Diesel</td>\n",
       "      <td>Hyderabad</td>\n",
       "      <td>2011</td>\n",
       "      <td>47000</td>\n",
       "      <td>Diesel</td>\n",
       "      <td>Manual</td>\n",
       "      <td>First</td>\n",
       "      <td>44.0</td>\n",
       "      <td>936.0</td>\n",
       "      <td>6.0</td>\n",
       "      <td>5</td>\n",
       "      <td>2.5</td>\n",
       "    </tr>\n",
       "  </tbody>\n",
       "</table>\n",
       "<p>6019 rows × 12 columns</p>\n",
       "</div>"
      ],
      "text/plain": [
       "                                  Name    Location  Year  Kilometers_Driven  \\\n",
       "0               Maruti Wagon R LXI CNG      Mumbai  2010              72000   \n",
       "1     Hyundai Creta 1.6 CRDi SX Option        Pune  2015              41000   \n",
       "2                         Honda Jazz V     Chennai  2011              46000   \n",
       "3                    Maruti Ertiga VDI     Chennai  2012              87000   \n",
       "4      Audi A4 New 2.0 TDI Multitronic  Coimbatore  2013              40670   \n",
       "...                                ...         ...   ...                ...   \n",
       "6014                  Maruti Swift VDI       Delhi  2014              27365   \n",
       "6015          Hyundai Xcent 1.1 CRDi S      Jaipur  2015             100000   \n",
       "6016             Mahindra Xylo D4 BSIV      Jaipur  2012              55000   \n",
       "6017                Maruti Wagon R VXI     Kolkata  2013              46000   \n",
       "6018             Chevrolet Beat Diesel   Hyderabad  2011              47000   \n",
       "\n",
       "     Fuel_Type Transmission Owner_Type  Mileage  Engine  Power  Seats  Price  \n",
       "0          CNG       Manual      First      6.0   998.0   16.0      5   1.75  \n",
       "1       Diesel       Manual      First     67.0  1582.0    2.0      5   12.5  \n",
       "2       Petrol       Manual      First      2.0  1199.0    7.0      5    4.5  \n",
       "3       Diesel       Manual      First     77.0  1248.0   76.0      7    6.0  \n",
       "4       Diesel    Automatic     Second      2.0  1968.0    8.0      5  17.74  \n",
       "...        ...          ...        ...      ...     ...    ...    ...    ...  \n",
       "6014    Diesel       Manual      First      4.0  1248.0   74.0      5   4.75  \n",
       "6015    Diesel       Manual      First      4.0  1120.0   71.0      5    4.0  \n",
       "6016    Diesel       Manual     Second      0.0  2498.0  112.0      8    2.9  \n",
       "6017    Petrol       Manual      First      9.0   998.0    1.0      5   2.65  \n",
       "6018    Diesel       Manual      First     44.0   936.0    6.0      5    2.5  \n",
       "\n",
       "[6019 rows x 12 columns]"
      ]
     },
     "execution_count": 17,
     "metadata": {},
     "output_type": "execute_result"
    }
   ],
   "source": [
    "cars"
   ]
  },
  {
   "cell_type": "code",
   "execution_count": 18,
   "id": "fe647bcc",
   "metadata": {},
   "outputs": [
    {
     "data": {
      "text/plain": [
       "1876"
      ]
     },
     "execution_count": 18,
     "metadata": {},
     "output_type": "execute_result"
    }
   ],
   "source": [
    "cars['Name'].nunique()"
   ]
  },
  {
   "cell_type": "code",
   "execution_count": 19,
   "id": "7a09a527",
   "metadata": {},
   "outputs": [
    {
     "name": "stdout",
     "output_type": "stream",
     "text": [
      "Percentage of uniques 31 %\n"
     ]
    }
   ],
   "source": [
    "print(\"Percentage of uniques\",round(cars[\"Name\"].nunique()/cars.shape[0]*100),\"%\")"
   ]
  },
  {
   "cell_type": "code",
   "execution_count": 20,
   "id": "0a7042d5",
   "metadata": {},
   "outputs": [],
   "source": [
    "cars[\"Brand\"] = cars[\"Name\"].apply(lambda x : x.split()[0])"
   ]
  },
  {
   "cell_type": "code",
   "execution_count": 21,
   "id": "716d150f",
   "metadata": {},
   "outputs": [
    {
     "data": {
      "text/plain": [
       "31"
      ]
     },
     "execution_count": 21,
     "metadata": {},
     "output_type": "execute_result"
    }
   ],
   "source": [
    "cars[\"Brand\"].nunique()"
   ]
  },
  {
   "cell_type": "code",
   "execution_count": 22,
   "id": "12aba65e",
   "metadata": {},
   "outputs": [],
   "source": [
    "cars[\"Name\"] = cars[\"Name\"].apply(lambda x : \" \".join(x.split()[:2]))"
   ]
  },
  {
   "cell_type": "code",
   "execution_count": 23,
   "id": "468e08fd",
   "metadata": {},
   "outputs": [
    {
     "data": {
      "text/plain": [
       "216"
      ]
     },
     "execution_count": 23,
     "metadata": {},
     "output_type": "execute_result"
    }
   ],
   "source": [
    "cars[\"Name\"].nunique()"
   ]
  },
  {
   "cell_type": "code",
   "execution_count": 24,
   "id": "b882d4a0",
   "metadata": {},
   "outputs": [],
   "source": [
    "cars = cars.convert_dtypes()"
   ]
  },
  {
   "cell_type": "code",
   "execution_count": 25,
   "id": "5887d0e5",
   "metadata": {},
   "outputs": [
    {
     "data": {
      "text/html": [
       "<div>\n",
       "<style scoped>\n",
       "    .dataframe tbody tr th:only-of-type {\n",
       "        vertical-align: middle;\n",
       "    }\n",
       "\n",
       "    .dataframe tbody tr th {\n",
       "        vertical-align: top;\n",
       "    }\n",
       "\n",
       "    .dataframe thead th {\n",
       "        text-align: right;\n",
       "    }\n",
       "</style>\n",
       "<table border=\"1\" class=\"dataframe\">\n",
       "  <thead>\n",
       "    <tr style=\"text-align: right;\">\n",
       "      <th></th>\n",
       "      <th>Name</th>\n",
       "      <th>Location</th>\n",
       "      <th>Year</th>\n",
       "      <th>Kilometers_Driven</th>\n",
       "      <th>Fuel_Type</th>\n",
       "      <th>Transmission</th>\n",
       "      <th>Owner_Type</th>\n",
       "      <th>Mileage</th>\n",
       "      <th>Engine</th>\n",
       "      <th>Power</th>\n",
       "      <th>Seats</th>\n",
       "      <th>Price</th>\n",
       "      <th>Brand</th>\n",
       "    </tr>\n",
       "  </thead>\n",
       "  <tbody>\n",
       "    <tr>\n",
       "      <th>0</th>\n",
       "      <td>Maruti Wagon</td>\n",
       "      <td>Mumbai</td>\n",
       "      <td>2010</td>\n",
       "      <td>72000</td>\n",
       "      <td>CNG</td>\n",
       "      <td>Manual</td>\n",
       "      <td>First</td>\n",
       "      <td>6.0</td>\n",
       "      <td>998.0</td>\n",
       "      <td>16.0</td>\n",
       "      <td>5</td>\n",
       "      <td>1.75</td>\n",
       "      <td>Maruti</td>\n",
       "    </tr>\n",
       "    <tr>\n",
       "      <th>1</th>\n",
       "      <td>Hyundai Creta</td>\n",
       "      <td>Pune</td>\n",
       "      <td>2015</td>\n",
       "      <td>41000</td>\n",
       "      <td>Diesel</td>\n",
       "      <td>Manual</td>\n",
       "      <td>First</td>\n",
       "      <td>67.0</td>\n",
       "      <td>1582.0</td>\n",
       "      <td>2.0</td>\n",
       "      <td>5</td>\n",
       "      <td>12.5</td>\n",
       "      <td>Hyundai</td>\n",
       "    </tr>\n",
       "    <tr>\n",
       "      <th>2</th>\n",
       "      <td>Honda Jazz</td>\n",
       "      <td>Chennai</td>\n",
       "      <td>2011</td>\n",
       "      <td>46000</td>\n",
       "      <td>Petrol</td>\n",
       "      <td>Manual</td>\n",
       "      <td>First</td>\n",
       "      <td>2.0</td>\n",
       "      <td>1199.0</td>\n",
       "      <td>7.0</td>\n",
       "      <td>5</td>\n",
       "      <td>4.5</td>\n",
       "      <td>Honda</td>\n",
       "    </tr>\n",
       "    <tr>\n",
       "      <th>3</th>\n",
       "      <td>Maruti Ertiga</td>\n",
       "      <td>Chennai</td>\n",
       "      <td>2012</td>\n",
       "      <td>87000</td>\n",
       "      <td>Diesel</td>\n",
       "      <td>Manual</td>\n",
       "      <td>First</td>\n",
       "      <td>77.0</td>\n",
       "      <td>1248.0</td>\n",
       "      <td>76.0</td>\n",
       "      <td>7</td>\n",
       "      <td>6.0</td>\n",
       "      <td>Maruti</td>\n",
       "    </tr>\n",
       "    <tr>\n",
       "      <th>4</th>\n",
       "      <td>Audi A4</td>\n",
       "      <td>Coimbatore</td>\n",
       "      <td>2013</td>\n",
       "      <td>40670</td>\n",
       "      <td>Diesel</td>\n",
       "      <td>Automatic</td>\n",
       "      <td>Second</td>\n",
       "      <td>2.0</td>\n",
       "      <td>1968.0</td>\n",
       "      <td>8.0</td>\n",
       "      <td>5</td>\n",
       "      <td>17.74</td>\n",
       "      <td>Audi</td>\n",
       "    </tr>\n",
       "    <tr>\n",
       "      <th>...</th>\n",
       "      <td>...</td>\n",
       "      <td>...</td>\n",
       "      <td>...</td>\n",
       "      <td>...</td>\n",
       "      <td>...</td>\n",
       "      <td>...</td>\n",
       "      <td>...</td>\n",
       "      <td>...</td>\n",
       "      <td>...</td>\n",
       "      <td>...</td>\n",
       "      <td>...</td>\n",
       "      <td>...</td>\n",
       "      <td>...</td>\n",
       "    </tr>\n",
       "    <tr>\n",
       "      <th>6014</th>\n",
       "      <td>Maruti Swift</td>\n",
       "      <td>Delhi</td>\n",
       "      <td>2014</td>\n",
       "      <td>27365</td>\n",
       "      <td>Diesel</td>\n",
       "      <td>Manual</td>\n",
       "      <td>First</td>\n",
       "      <td>4.0</td>\n",
       "      <td>1248.0</td>\n",
       "      <td>74.0</td>\n",
       "      <td>5</td>\n",
       "      <td>4.75</td>\n",
       "      <td>Maruti</td>\n",
       "    </tr>\n",
       "    <tr>\n",
       "      <th>6015</th>\n",
       "      <td>Hyundai Xcent</td>\n",
       "      <td>Jaipur</td>\n",
       "      <td>2015</td>\n",
       "      <td>100000</td>\n",
       "      <td>Diesel</td>\n",
       "      <td>Manual</td>\n",
       "      <td>First</td>\n",
       "      <td>4.0</td>\n",
       "      <td>1120.0</td>\n",
       "      <td>71.0</td>\n",
       "      <td>5</td>\n",
       "      <td>4.0</td>\n",
       "      <td>Hyundai</td>\n",
       "    </tr>\n",
       "    <tr>\n",
       "      <th>6016</th>\n",
       "      <td>Mahindra Xylo</td>\n",
       "      <td>Jaipur</td>\n",
       "      <td>2012</td>\n",
       "      <td>55000</td>\n",
       "      <td>Diesel</td>\n",
       "      <td>Manual</td>\n",
       "      <td>Second</td>\n",
       "      <td>0.0</td>\n",
       "      <td>2498.0</td>\n",
       "      <td>112.0</td>\n",
       "      <td>8</td>\n",
       "      <td>2.9</td>\n",
       "      <td>Mahindra</td>\n",
       "    </tr>\n",
       "    <tr>\n",
       "      <th>6017</th>\n",
       "      <td>Maruti Wagon</td>\n",
       "      <td>Kolkata</td>\n",
       "      <td>2013</td>\n",
       "      <td>46000</td>\n",
       "      <td>Petrol</td>\n",
       "      <td>Manual</td>\n",
       "      <td>First</td>\n",
       "      <td>9.0</td>\n",
       "      <td>998.0</td>\n",
       "      <td>1.0</td>\n",
       "      <td>5</td>\n",
       "      <td>2.65</td>\n",
       "      <td>Maruti</td>\n",
       "    </tr>\n",
       "    <tr>\n",
       "      <th>6018</th>\n",
       "      <td>Chevrolet Beat</td>\n",
       "      <td>Hyderabad</td>\n",
       "      <td>2011</td>\n",
       "      <td>47000</td>\n",
       "      <td>Diesel</td>\n",
       "      <td>Manual</td>\n",
       "      <td>First</td>\n",
       "      <td>44.0</td>\n",
       "      <td>936.0</td>\n",
       "      <td>6.0</td>\n",
       "      <td>5</td>\n",
       "      <td>2.5</td>\n",
       "      <td>Chevrolet</td>\n",
       "    </tr>\n",
       "  </tbody>\n",
       "</table>\n",
       "<p>6019 rows × 13 columns</p>\n",
       "</div>"
      ],
      "text/plain": [
       "                Name    Location  Year  Kilometers_Driven Fuel_Type  \\\n",
       "0       Maruti Wagon      Mumbai  2010              72000       CNG   \n",
       "1      Hyundai Creta        Pune  2015              41000    Diesel   \n",
       "2         Honda Jazz     Chennai  2011              46000    Petrol   \n",
       "3      Maruti Ertiga     Chennai  2012              87000    Diesel   \n",
       "4            Audi A4  Coimbatore  2013              40670    Diesel   \n",
       "...              ...         ...   ...                ...       ...   \n",
       "6014    Maruti Swift       Delhi  2014              27365    Diesel   \n",
       "6015   Hyundai Xcent      Jaipur  2015             100000    Diesel   \n",
       "6016   Mahindra Xylo      Jaipur  2012              55000    Diesel   \n",
       "6017    Maruti Wagon     Kolkata  2013              46000    Petrol   \n",
       "6018  Chevrolet Beat   Hyderabad  2011              47000    Diesel   \n",
       "\n",
       "     Transmission Owner_Type  Mileage  Engine  Power  Seats  Price      Brand  \n",
       "0          Manual      First      6.0   998.0   16.0      5   1.75     Maruti  \n",
       "1          Manual      First     67.0  1582.0    2.0      5   12.5    Hyundai  \n",
       "2          Manual      First      2.0  1199.0    7.0      5    4.5      Honda  \n",
       "3          Manual      First     77.0  1248.0   76.0      7    6.0     Maruti  \n",
       "4       Automatic     Second      2.0  1968.0    8.0      5  17.74       Audi  \n",
       "...           ...        ...      ...     ...    ...    ...    ...        ...  \n",
       "6014       Manual      First      4.0  1248.0   74.0      5   4.75     Maruti  \n",
       "6015       Manual      First      4.0  1120.0   71.0      5    4.0    Hyundai  \n",
       "6016       Manual     Second      0.0  2498.0  112.0      8    2.9   Mahindra  \n",
       "6017       Manual      First      9.0   998.0    1.0      5   2.65     Maruti  \n",
       "6018       Manual      First     44.0   936.0    6.0      5    2.5  Chevrolet  \n",
       "\n",
       "[6019 rows x 13 columns]"
      ]
     },
     "execution_count": 25,
     "metadata": {},
     "output_type": "execute_result"
    }
   ],
   "source": [
    "cars"
   ]
  },
  {
   "cell_type": "code",
   "execution_count": 26,
   "id": "7cf348a5",
   "metadata": {},
   "outputs": [
    {
     "data": {
      "text/plain": [
       "Index(['Name', 'Location', 'Year', 'Kilometers_Driven', 'Fuel_Type',\n",
       "       'Transmission', 'Owner_Type', 'Mileage', 'Engine', 'Power', 'Seats',\n",
       "       'Price', 'Brand'],\n",
       "      dtype='object')"
      ]
     },
     "execution_count": 26,
     "metadata": {},
     "output_type": "execute_result"
    }
   ],
   "source": [
    "cars.columns"
   ]
  },
  {
   "cell_type": "code",
   "execution_count": 27,
   "id": "0d8b17f9",
   "metadata": {},
   "outputs": [],
   "source": [
    "columns=['Brand','Name', 'Location', 'Year', 'Kilometers_Driven', 'Fuel_Type',\n",
    "       'Transmission', 'Owner_Type', 'Mileage', 'Engine', 'Power', 'Seats',\n",
    "       'Price']"
   ]
  },
  {
   "cell_type": "code",
   "execution_count": 28,
   "id": "a9464ee6",
   "metadata": {},
   "outputs": [
    {
     "data": {
      "text/html": [
       "<div>\n",
       "<style scoped>\n",
       "    .dataframe tbody tr th:only-of-type {\n",
       "        vertical-align: middle;\n",
       "    }\n",
       "\n",
       "    .dataframe tbody tr th {\n",
       "        vertical-align: top;\n",
       "    }\n",
       "\n",
       "    .dataframe thead th {\n",
       "        text-align: right;\n",
       "    }\n",
       "</style>\n",
       "<table border=\"1\" class=\"dataframe\">\n",
       "  <thead>\n",
       "    <tr style=\"text-align: right;\">\n",
       "      <th></th>\n",
       "      <th>Brand</th>\n",
       "      <th>Name</th>\n",
       "      <th>Location</th>\n",
       "      <th>Year</th>\n",
       "      <th>Kilometers_Driven</th>\n",
       "      <th>Fuel_Type</th>\n",
       "      <th>Transmission</th>\n",
       "      <th>Owner_Type</th>\n",
       "      <th>Mileage</th>\n",
       "      <th>Engine</th>\n",
       "      <th>Power</th>\n",
       "      <th>Seats</th>\n",
       "      <th>Price</th>\n",
       "    </tr>\n",
       "  </thead>\n",
       "  <tbody>\n",
       "    <tr>\n",
       "      <th>0</th>\n",
       "      <td>Maruti</td>\n",
       "      <td>Maruti Wagon</td>\n",
       "      <td>Mumbai</td>\n",
       "      <td>2010</td>\n",
       "      <td>72000</td>\n",
       "      <td>CNG</td>\n",
       "      <td>Manual</td>\n",
       "      <td>First</td>\n",
       "      <td>6.0</td>\n",
       "      <td>998.0</td>\n",
       "      <td>16.0</td>\n",
       "      <td>5</td>\n",
       "      <td>1.75</td>\n",
       "    </tr>\n",
       "    <tr>\n",
       "      <th>1</th>\n",
       "      <td>Hyundai</td>\n",
       "      <td>Hyundai Creta</td>\n",
       "      <td>Pune</td>\n",
       "      <td>2015</td>\n",
       "      <td>41000</td>\n",
       "      <td>Diesel</td>\n",
       "      <td>Manual</td>\n",
       "      <td>First</td>\n",
       "      <td>67.0</td>\n",
       "      <td>1582.0</td>\n",
       "      <td>2.0</td>\n",
       "      <td>5</td>\n",
       "      <td>12.5</td>\n",
       "    </tr>\n",
       "    <tr>\n",
       "      <th>2</th>\n",
       "      <td>Honda</td>\n",
       "      <td>Honda Jazz</td>\n",
       "      <td>Chennai</td>\n",
       "      <td>2011</td>\n",
       "      <td>46000</td>\n",
       "      <td>Petrol</td>\n",
       "      <td>Manual</td>\n",
       "      <td>First</td>\n",
       "      <td>2.0</td>\n",
       "      <td>1199.0</td>\n",
       "      <td>7.0</td>\n",
       "      <td>5</td>\n",
       "      <td>4.5</td>\n",
       "    </tr>\n",
       "    <tr>\n",
       "      <th>3</th>\n",
       "      <td>Maruti</td>\n",
       "      <td>Maruti Ertiga</td>\n",
       "      <td>Chennai</td>\n",
       "      <td>2012</td>\n",
       "      <td>87000</td>\n",
       "      <td>Diesel</td>\n",
       "      <td>Manual</td>\n",
       "      <td>First</td>\n",
       "      <td>77.0</td>\n",
       "      <td>1248.0</td>\n",
       "      <td>76.0</td>\n",
       "      <td>7</td>\n",
       "      <td>6.0</td>\n",
       "    </tr>\n",
       "    <tr>\n",
       "      <th>4</th>\n",
       "      <td>Audi</td>\n",
       "      <td>Audi A4</td>\n",
       "      <td>Coimbatore</td>\n",
       "      <td>2013</td>\n",
       "      <td>40670</td>\n",
       "      <td>Diesel</td>\n",
       "      <td>Automatic</td>\n",
       "      <td>Second</td>\n",
       "      <td>2.0</td>\n",
       "      <td>1968.0</td>\n",
       "      <td>8.0</td>\n",
       "      <td>5</td>\n",
       "      <td>17.74</td>\n",
       "    </tr>\n",
       "    <tr>\n",
       "      <th>...</th>\n",
       "      <td>...</td>\n",
       "      <td>...</td>\n",
       "      <td>...</td>\n",
       "      <td>...</td>\n",
       "      <td>...</td>\n",
       "      <td>...</td>\n",
       "      <td>...</td>\n",
       "      <td>...</td>\n",
       "      <td>...</td>\n",
       "      <td>...</td>\n",
       "      <td>...</td>\n",
       "      <td>...</td>\n",
       "      <td>...</td>\n",
       "    </tr>\n",
       "    <tr>\n",
       "      <th>6014</th>\n",
       "      <td>Maruti</td>\n",
       "      <td>Maruti Swift</td>\n",
       "      <td>Delhi</td>\n",
       "      <td>2014</td>\n",
       "      <td>27365</td>\n",
       "      <td>Diesel</td>\n",
       "      <td>Manual</td>\n",
       "      <td>First</td>\n",
       "      <td>4.0</td>\n",
       "      <td>1248.0</td>\n",
       "      <td>74.0</td>\n",
       "      <td>5</td>\n",
       "      <td>4.75</td>\n",
       "    </tr>\n",
       "    <tr>\n",
       "      <th>6015</th>\n",
       "      <td>Hyundai</td>\n",
       "      <td>Hyundai Xcent</td>\n",
       "      <td>Jaipur</td>\n",
       "      <td>2015</td>\n",
       "      <td>100000</td>\n",
       "      <td>Diesel</td>\n",
       "      <td>Manual</td>\n",
       "      <td>First</td>\n",
       "      <td>4.0</td>\n",
       "      <td>1120.0</td>\n",
       "      <td>71.0</td>\n",
       "      <td>5</td>\n",
       "      <td>4.0</td>\n",
       "    </tr>\n",
       "    <tr>\n",
       "      <th>6016</th>\n",
       "      <td>Mahindra</td>\n",
       "      <td>Mahindra Xylo</td>\n",
       "      <td>Jaipur</td>\n",
       "      <td>2012</td>\n",
       "      <td>55000</td>\n",
       "      <td>Diesel</td>\n",
       "      <td>Manual</td>\n",
       "      <td>Second</td>\n",
       "      <td>0.0</td>\n",
       "      <td>2498.0</td>\n",
       "      <td>112.0</td>\n",
       "      <td>8</td>\n",
       "      <td>2.9</td>\n",
       "    </tr>\n",
       "    <tr>\n",
       "      <th>6017</th>\n",
       "      <td>Maruti</td>\n",
       "      <td>Maruti Wagon</td>\n",
       "      <td>Kolkata</td>\n",
       "      <td>2013</td>\n",
       "      <td>46000</td>\n",
       "      <td>Petrol</td>\n",
       "      <td>Manual</td>\n",
       "      <td>First</td>\n",
       "      <td>9.0</td>\n",
       "      <td>998.0</td>\n",
       "      <td>1.0</td>\n",
       "      <td>5</td>\n",
       "      <td>2.65</td>\n",
       "    </tr>\n",
       "    <tr>\n",
       "      <th>6018</th>\n",
       "      <td>Chevrolet</td>\n",
       "      <td>Chevrolet Beat</td>\n",
       "      <td>Hyderabad</td>\n",
       "      <td>2011</td>\n",
       "      <td>47000</td>\n",
       "      <td>Diesel</td>\n",
       "      <td>Manual</td>\n",
       "      <td>First</td>\n",
       "      <td>44.0</td>\n",
       "      <td>936.0</td>\n",
       "      <td>6.0</td>\n",
       "      <td>5</td>\n",
       "      <td>2.5</td>\n",
       "    </tr>\n",
       "  </tbody>\n",
       "</table>\n",
       "<p>6019 rows × 13 columns</p>\n",
       "</div>"
      ],
      "text/plain": [
       "          Brand            Name    Location  Year  Kilometers_Driven  \\\n",
       "0        Maruti    Maruti Wagon      Mumbai  2010              72000   \n",
       "1       Hyundai   Hyundai Creta        Pune  2015              41000   \n",
       "2         Honda      Honda Jazz     Chennai  2011              46000   \n",
       "3        Maruti   Maruti Ertiga     Chennai  2012              87000   \n",
       "4          Audi         Audi A4  Coimbatore  2013              40670   \n",
       "...         ...             ...         ...   ...                ...   \n",
       "6014     Maruti    Maruti Swift       Delhi  2014              27365   \n",
       "6015    Hyundai   Hyundai Xcent      Jaipur  2015             100000   \n",
       "6016   Mahindra   Mahindra Xylo      Jaipur  2012              55000   \n",
       "6017     Maruti    Maruti Wagon     Kolkata  2013              46000   \n",
       "6018  Chevrolet  Chevrolet Beat   Hyderabad  2011              47000   \n",
       "\n",
       "     Fuel_Type Transmission Owner_Type  Mileage  Engine  Power  Seats  Price  \n",
       "0          CNG       Manual      First      6.0   998.0   16.0      5   1.75  \n",
       "1       Diesel       Manual      First     67.0  1582.0    2.0      5   12.5  \n",
       "2       Petrol       Manual      First      2.0  1199.0    7.0      5    4.5  \n",
       "3       Diesel       Manual      First     77.0  1248.0   76.0      7    6.0  \n",
       "4       Diesel    Automatic     Second      2.0  1968.0    8.0      5  17.74  \n",
       "...        ...          ...        ...      ...     ...    ...    ...    ...  \n",
       "6014    Diesel       Manual      First      4.0  1248.0   74.0      5   4.75  \n",
       "6015    Diesel       Manual      First      4.0  1120.0   71.0      5    4.0  \n",
       "6016    Diesel       Manual     Second      0.0  2498.0  112.0      8    2.9  \n",
       "6017    Petrol       Manual      First      9.0   998.0    1.0      5   2.65  \n",
       "6018    Diesel       Manual      First     44.0   936.0    6.0      5    2.5  \n",
       "\n",
       "[6019 rows x 13 columns]"
      ]
     },
     "execution_count": 28,
     "metadata": {},
     "output_type": "execute_result"
    }
   ],
   "source": [
    "cars=cars[columns]\n",
    "cars"
   ]
  },
  {
   "cell_type": "code",
   "execution_count": 29,
   "id": "7f96749d",
   "metadata": {},
   "outputs": [],
   "source": [
    "cars.to_csv(\".\\Project-2(sem-4)\\Cleaned_Data.csv\")"
   ]
  },
  {
   "cell_type": "markdown",
   "id": "6cdcf92b",
   "metadata": {},
   "source": [
    "<h1>Data Understanding and Visualisation</h1>"
   ]
  },
  {
   "cell_type": "code",
   "execution_count": 30,
   "id": "9fe23f5e",
   "metadata": {},
   "outputs": [
    {
     "data": {
      "text/plain": [
       "<AxesSubplot:xlabel='Kilometers_Driven', ylabel='Count'>"
      ]
     },
     "execution_count": 30,
     "metadata": {},
     "output_type": "execute_result"
    },
    {
     "data": {
      "image/png": "[encoded data removed]",
      "text/plain": [
       "<Figure size 700x1400 with 1 Axes>"
      ]
     },
     "metadata": {},
     "output_type": "display_data"
    }
   ],
   "source": [
    "sns.histplot(data=cars,x='Kilometers_Driven')"
   ]
  },
  {
   "cell_type": "code",
   "execution_count": 31,
   "id": "f26ed899",
   "metadata": {},
   "outputs": [
    {
     "data": {
      "text/plain": [
       "<AxesSubplot:xlabel='Mileage', ylabel='Count'>"
      ]
     },
     "execution_count": 31,
     "metadata": {},
     "output_type": "execute_result"
    },
    {
     "data": {
      "image/png": "[encoded data removed]",
      "text/plain": [
       "<Figure size 700x1400 with 1 Axes>"
      ]
     },
     "metadata": {},
     "output_type": "display_data"
    }
   ],
   "source": [
    "sns.histplot(data = cars , x = 'Mileage')"
   ]
  },
  {
   "cell_type": "code",
   "execution_count": 32,
   "id": "105791cc",
   "metadata": {},
   "outputs": [
    {
     "data": {
      "text/plain": [
       "<AxesSubplot:xlabel='Engine', ylabel='Count'>"
      ]
     },
     "execution_count": 32,
     "metadata": {},
     "output_type": "execute_result"
    },
    {
     "data": {
      "image/png": "[encoded data removed]",
      "text/plain": [
       "<Figure size 700x1400 with 1 Axes>"
      ]
     },
     "metadata": {},
     "output_type": "display_data"
    }
   ],
   "source": [
    "sns.histplot(data = cars , x = 'Engine')"
   ]
  },
  {
   "cell_type": "code",
   "execution_count": 33,
   "id": "f43d712b",
   "metadata": {},
   "outputs": [
    {
     "data": {
      "text/plain": [
       "<AxesSubplot:xlabel='Power', ylabel='Count'>"
      ]
     },
     "execution_count": 33,
     "metadata": {},
     "output_type": "execute_result"
    },
    {
     "data": {
      "image/png": "[encoded data removed]",
      "text/plain": [
       "<Figure size 700x1400 with 1 Axes>"
      ]
     },
     "metadata": {},
     "output_type": "display_data"
    }
   ],
   "source": [
    "sns.histplot(data = cars , x = 'Power')"
   ]
  },
  {
   "cell_type": "code",
   "execution_count": 34,
   "id": "07845f34",
   "metadata": {},
   "outputs": [
    {
     "data": {
      "text/plain": [
       "<AxesSubplot:xlabel='Price', ylabel='Count'>"
      ]
     },
     "execution_count": 34,
     "metadata": {},
     "output_type": "execute_result"
    },
    {
     "data": {
      "image/png": "[encoded data removed]",
      "text/plain": [
       "<Figure size 700x1400 with 1 Axes>"
      ]
     },
     "metadata": {},
     "output_type": "display_data"
    }
   ],
   "source": [
    "sns.histplot(data = cars , x = 'Price')"
   ]
  },
  {
   "cell_type": "code",
   "execution_count": 35,
   "id": "cc5f63a7",
   "metadata": {},
   "outputs": [],
   "source": [
    "numerical_cols = ['Kilometers_Driven' , 'Mileage' , 'Engine' , 'Power','Price']"
   ]
  },
  {
   "cell_type": "code",
   "execution_count": 36,
   "id": "dd792716",
   "metadata": {},
   "outputs": [],
   "source": [
    "cars_nums = cars.copy()\n",
    "from datasist.structdata import detect_outliers\n",
    "outliears = detect_outliers(cars_nums[numerical_cols],0,cars_nums[numerical_cols].columns)\n",
    "cars_nums.drop(outliears,inplace=True)"
   ]
  },
  {
   "cell_type": "code",
   "execution_count": 37,
   "id": "5949d7d4",
   "metadata": {},
   "outputs": [
    {
     "data": {
      "text/plain": [
       "(6019, 13)"
      ]
     },
     "execution_count": 37,
     "metadata": {},
     "output_type": "execute_result"
    }
   ],
   "source": [
    "cars.shape"
   ]
  },
  {
   "cell_type": "code",
   "execution_count": 38,
   "id": "eb0d1d4b",
   "metadata": {},
   "outputs": [
    {
     "data": {
      "text/plain": [
       "<AxesSubplot:xlabel='Kilometers_Driven', ylabel='Count'>"
      ]
     },
     "execution_count": 38,
     "metadata": {},
     "output_type": "execute_result"
    },
    {
     "data": {
      "image/png": "[encoded data removed]",
      "text/plain": [
       "<Figure size 700x1400 with 1 Axes>"
      ]
     },
     "metadata": {},
     "output_type": "display_data"
    }
   ],
   "source": [
    "sns.histplot(data = cars_nums , x = 'Kilometers_Driven')"
   ]
  },
  {
   "cell_type": "code",
   "execution_count": 39,
   "id": "6f2da2a2",
   "metadata": {},
   "outputs": [
    {
     "data": {
      "text/plain": [
       "<AxesSubplot:xlabel='Mileage', ylabel='Count'>"
      ]
     },
     "execution_count": 39,
     "metadata": {},
     "output_type": "execute_result"
    },
    {
     "data": {
      "image/png": "[encoded data removed]",
      "text/plain": [
       "<Figure size 700x1400 with 1 Axes>"
      ]
     },
     "metadata": {},
     "output_type": "display_data"
    }
   ],
   "source": [
    "sns.histplot(data = cars_nums , x = 'Mileage')"
   ]
  },
  {
   "cell_type": "code",
   "execution_count": 40,
   "id": "e53deb24",
   "metadata": {},
   "outputs": [
    {
     "data": {
      "text/plain": [
       "<AxesSubplot:xlabel='Engine', ylabel='Count'>"
      ]
     },
     "execution_count": 40,
     "metadata": {},
     "output_type": "execute_result"
    },
    {
     "data": {
      "image/png": "[encoded data removed]",
      "text/plain": [
       "<Figure size 700x1400 with 1 Axes>"
      ]
     },
     "metadata": {},
     "output_type": "display_data"
    }
   ],
   "source": [
    "sns.histplot(data = cars_nums , x = 'Engine')"
   ]
  },
  {
   "cell_type": "code",
   "execution_count": 41,
   "id": "f805ea1a",
   "metadata": {},
   "outputs": [
    {
     "data": {
      "text/plain": [
       "<AxesSubplot:xlabel='Power', ylabel='Count'>"
      ]
     },
     "execution_count": 41,
     "metadata": {},
     "output_type": "execute_result"
    },
    {
     "data": {
      "image/png": "[encoded data removed]",
      "text/plain": [
       "<Figure size 700x1400 with 1 Axes>"
      ]
     },
     "metadata": {},
     "output_type": "display_data"
    }
   ],
   "source": [
    "sns.histplot(data = cars_nums , x = 'Power')"
   ]
  },
  {
   "cell_type": "code",
   "execution_count": 42,
   "id": "0e4a1532",
   "metadata": {},
   "outputs": [
    {
     "data": {
      "text/plain": [
       "<AxesSubplot:xlabel='Price', ylabel='Count'>"
      ]
     },
     "execution_count": 42,
     "metadata": {},
     "output_type": "execute_result"
    },
    {
     "data": {
      "image/png": "[encoded data removed]",
      "text/plain": [
       "<Figure size 700x1400 with 1 Axes>"
      ]
     },
     "metadata": {},
     "output_type": "display_data"
    }
   ],
   "source": [
    "sns.histplot(data = cars_nums , x = 'Price')"
   ]
  },
  {
   "cell_type": "code",
   "execution_count": 43,
   "id": "0979eb6f",
   "metadata": {},
   "outputs": [],
   "source": [
    "transformation1 = {\n",
    "    \"First\":3,\n",
    "    \"Second\":2,\n",
    "    \"Third\":1,\n",
    "    \"Fourth & Above\":0\n",
    "}"
   ]
  },
  {
   "cell_type": "code",
   "execution_count": 44,
   "id": "c2465729",
   "metadata": {},
   "outputs": [],
   "source": [
    "cars['Owner_Type'] = cars['Owner_Type'].map(transformation1)"
   ]
  },
  {
   "cell_type": "code",
   "execution_count": 45,
   "id": "013de319",
   "metadata": {},
   "outputs": [],
   "source": [
    "Nominal_data = ['Name','Location','Fuel_Type','Transmission','Brand']\n",
    "binaryencoder = ce.BinaryEncoder(cols=Nominal_data)\n",
    "cars = binaryencoder.fit_transform(cars)"
   ]
  },
  {
   "cell_type": "code",
   "execution_count": 46,
   "id": "229c7b78",
   "metadata": {},
   "outputs": [],
   "source": [
    "Numerical_data = ['Year','Kilometers_Driven','Mileage','Engine','Power','Seats','Price']"
   ]
  },
  {
   "cell_type": "code",
   "execution_count": 47,
   "id": "66f0e3c2",
   "metadata": {},
   "outputs": [],
   "source": [
    "new_cars = pd.DataFrame(PowerTransformer().fit_transform(cars), columns=cars.columns, index=cars.index)"
   ]
  },
  {
   "cell_type": "markdown",
   "id": "be1fd074",
   "metadata": {},
   "source": [
    "Data splitting"
   ]
  },
  {
   "cell_type": "code",
   "execution_count": 48,
   "id": "a1c5bd93",
   "metadata": {},
   "outputs": [],
   "source": [
    "x, y = new_cars.drop(\"Price\",axis=1) , new_cars[\"Price\"] "
   ]
  },
  {
   "cell_type": "markdown",
   "id": "ad5ffba5",
   "metadata": {},
   "source": [
    "<h1>Train_Test_Split</h1>"
   ]
  },
  {
   "cell_type": "code",
   "execution_count": 49,
   "id": "b40e4913",
   "metadata": {},
   "outputs": [],
   "source": [
    "x_train,x_test,y_train,y_test=train_test_split(x,y,test_size=0.2,random_state=85)"
   ]
  },
  {
   "cell_type": "markdown",
   "id": "2e59f756",
   "metadata": {},
   "source": [
    "5.1 Linear regression (OLS method)"
   ]
  },
  {
   "cell_type": "code",
   "execution_count": 50,
   "id": "2f602bbb",
   "metadata": {
    "scrolled": true
   },
   "outputs": [
    {
     "data": {
      "text/plain": [
       "LinearRegression()"
      ]
     },
     "execution_count": 50,
     "metadata": {},
     "output_type": "execute_result"
    }
   ],
   "source": [
    "regressor=LinearRegression()\n",
    "regressor.fit(x_train,y_train)"
   ]
  },
  {
   "cell_type": "code",
   "execution_count": 51,
   "id": "a0ae5fc1",
   "metadata": {},
   "outputs": [
    {
     "name": "stdout",
     "output_type": "stream",
     "text": [
      "R-squared train: 85.12 %\n",
      "R-squared test: 85.41 %\n",
      "RMSE: 0.38157299572964354\n"
     ]
    }
   ],
   "source": [
    "y_pred = regressor.predict(x_test)\n",
    "print(\"R-squared train:\",round((regressor.score(x_train,  (y_train))*100),2),\"%\")\n",
    "print(\"R-squared test:\",round((regressor.score(x_test,  (y_test))*100),2),\"%\")\n",
    "print(f\"RMSE: {sqrt(mean_squared_error(y_pred,(y_test)))}\")"
   ]
  },
  {
   "cell_type": "markdown",
   "id": "45d7607b",
   "metadata": {},
   "source": [
    "5.2 Decision Tree Regression"
   ]
  },
  {
   "cell_type": "code",
   "execution_count": 52,
   "id": "a25ef87e",
   "metadata": {},
   "outputs": [
    {
     "data": {
      "text/plain": [
       "DecisionTreeRegressor(max_depth=20)"
      ]
     },
     "execution_count": 52,
     "metadata": {},
     "output_type": "execute_result"
    }
   ],
   "source": [
    "regressor=DecisionTreeRegressor(max_depth=20)\n",
    "regressor.fit(x_train,y_train)"
   ]
  },
  {
   "cell_type": "code",
   "execution_count": 53,
   "id": "c38bc236",
   "metadata": {
    "scrolled": true
   },
   "outputs": [
    {
     "name": "stdout",
     "output_type": "stream",
     "text": [
      "R-squared train: 99.99 %\n",
      "R-squared test: 85.08 %\n",
      "RMSE: 0.3858332157305947\n"
     ]
    }
   ],
   "source": [
    "y_pred = regressor.predict(x_test)\n",
    "print(\"R-squared train:\",round((regressor.score(x_train,  (y_train))*100),2),\"%\")\n",
    "print(\"R-squared test:\",round((regressor.score(x_test,  (y_test))*100),2),\"%\")\n",
    "print(f\"RMSE: {sqrt(mean_squared_error(y_pred,(y_test)))}\")"
   ]
  },
  {
   "cell_type": "markdown",
   "id": "16bb9f96",
   "metadata": {},
   "source": [
    "5.3 Linear regression (Lasso method)"
   ]
  },
  {
   "cell_type": "code",
   "execution_count": 54,
   "id": "92d1c8b0",
   "metadata": {},
   "outputs": [
    {
     "data": {
      "text/plain": [
       "PolynomialFeatures()"
      ]
     },
     "execution_count": 54,
     "metadata": {},
     "output_type": "execute_result"
    }
   ],
   "source": [
    "from sklearn.preprocessing import PolynomialFeatures\n",
    "poly_reg = PolynomialFeatures(degree = 2)\n",
    "poly_reg.fit(x_train)"
   ]
  },
  {
   "cell_type": "code",
   "execution_count": 55,
   "id": "1190b376",
   "metadata": {},
   "outputs": [],
   "source": [
    "x_train = poly_reg.transform(x_train)\n",
    "x_test = poly_reg.transform(x_test)"
   ]
  },
  {
   "cell_type": "code",
   "execution_count": 56,
   "id": "ce26d6e2",
   "metadata": {
    "scrolled": true
   },
   "outputs": [],
   "source": [
    "regressor = LassoCV().fit(x_train,(y_train))"
   ]
  },
  {
   "cell_type": "code",
   "execution_count": 57,
   "id": "d95e2ffa",
   "metadata": {},
   "outputs": [
    {
     "name": "stdout",
     "output_type": "stream",
     "text": [
      "R-squared train: 93.94 %\n",
      "R-squared test: 93.4 %\n",
      "RMSE: 0.25667748340336205\n"
     ]
    }
   ],
   "source": [
    "y_pred = regressor.predict(x_test)\n",
    "print(\"R-squared train:\",round((regressor.score(x_train,  (y_train))*100),2),\"%\")\n",
    "print(\"R-squared test:\",round((regressor.score(x_test,  (y_test))*100),2),\"%\")\n",
    "print(f\"RMSE: {sqrt(mean_squared_error(y_pred,(y_test)))}\")"
   ]
  },
  {
   "cell_type": "markdown",
   "id": "698ae991",
   "metadata": {},
   "source": [
    "5.4 Linear regression (Ridge method)"
   ]
  },
  {
   "cell_type": "code",
   "execution_count": 58,
   "id": "39f8d8b1",
   "metadata": {},
   "outputs": [],
   "source": [
    "regressor = RidgeCV().fit(x_train,(y_train))"
   ]
  },
  {
   "cell_type": "code",
   "execution_count": 59,
   "id": "8c529e03",
   "metadata": {},
   "outputs": [
    {
     "name": "stdout",
     "output_type": "stream",
     "text": [
      "R-squared train: 94.21 %\n",
      "R-squared test: 93.12 %\n",
      "RMSE: 0.2619516025871859\n"
     ]
    }
   ],
   "source": [
    "y_pred = regressor.predict(x_test)\n",
    "print(\"R-squared train:\",round((regressor.score(x_train,  (y_train))*100),2),\"%\")\n",
    "print(\"R-squared test:\",round((regressor.score(x_test,  (y_test))*100),2),\"%\")\n",
    "print(f\"RMSE: {sqrt(mean_squared_error(y_pred,(y_test)))}\")"
   ]
  },
  {
   "cell_type": "markdown",
   "id": "42e6d192",
   "metadata": {},
   "source": [
    "5.4 Linear regression (ElasticNetCV method)"
   ]
  },
  {
   "cell_type": "code",
   "execution_count": 60,
   "id": "c282c96c",
   "metadata": {},
   "outputs": [],
   "source": [
    "regressor = ElasticNetCV().fit(x_train,(y_train))"
   ]
  },
  {
   "cell_type": "code",
   "execution_count": 61,
   "id": "b539e6ac",
   "metadata": {},
   "outputs": [
    {
     "name": "stdout",
     "output_type": "stream",
     "text": [
      "R-squared train: 93.98 %\n",
      "R-squared test: 93.43 %\n",
      "RMSE: 0.2559762869422196\n"
     ]
    }
   ],
   "source": [
    "y_pred = regressor.predict(x_test)\n",
    "print(\"R-squared train:\",round((regressor.score(x_train,  (y_train))*100),2),\"%\")\n",
    "print(\"R-squared test:\",round((regressor.score(x_test,  (y_test))*100),2),\"%\")\n",
    "print(f\"RMSE: {sqrt(mean_squared_error(y_pred,(y_test)))}\")"
   ]
  },
  {
   "cell_type": "markdown",
   "id": "1f5d0ac0",
   "metadata": {},
   "source": [
    "Random Forest Regression"
   ]
  },
  {
   "cell_type": "code",
   "execution_count": 69,
   "id": "58764b0a",
   "metadata": {},
   "outputs": [],
   "source": [
    "regressor = RandomForestRegressor(n_estimators = 200).fit(x_train,(y_train))"
   ]
  },
  {
   "cell_type": "code",
   "execution_count": 70,
   "id": "bae35088",
   "metadata": {},
   "outputs": [
    {
     "name": "stdout",
     "output_type": "stream",
     "text": [
      "R-squared train: 99.06 %\n",
      "R-squared test: 94.24 %\n",
      "RMSE: 0.23976221009232346\n"
     ]
    }
   ],
   "source": [
    "y_pred = regressor.predict(x_test)\n",
    "print(\"R-squared train:\",round((regressor.score(x_train,  (y_train))*100),2),\"%\")\n",
    "print(\"R-squared test:\",round((regressor.score(x_test,  (y_test))*100),2),\"%\")\n",
    "print(f\"RMSE: {sqrt(mean_squared_error(y_pred,(y_test)))}\")"
   ]
  },
  {
   "cell_type": "code",
   "execution_count": null,
   "id": "ef09757b",
   "metadata": {},
   "outputs": [],
   "source": []
  }
 ],
 "metadata": {
  "kernelspec": {
   "display_name": "Python 3 (ipykernel)",
   "language": "python",
   "name": "python3"
  },
  "language_info": {
   "codemirror_mode": {
    "name": "ipython",
    "version": 3
   },
   "file_extension": ".py",
   "mimetype": "text/x-python",
   "name": "python",
   "nbconvert_exporter": "python",
   "pygments_lexer": "ipython3",
   "version": "3.9.13"
  }
 },
 "nbformat": 4,
 "nbformat_minor": 5
}
